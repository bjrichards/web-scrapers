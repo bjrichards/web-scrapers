{
 "cells": [
  {
   "cell_type": "code",
   "execution_count": 55,
   "id": "1510fdac",
   "metadata": {},
   "outputs": [],
   "source": [
    "from selenium import webdriver\n",
    "from selenium.webdriver.common.keys import Keys\n",
    "from selenium.webdriver.common.by import By\n",
    "\n",
    "from webdriver_manager.chrome import ChromeDriverManager\n",
    "\n",
    "import dataclasses\n",
    "import csv\n",
    "import time\n",
    "\n",
    "from bs4 import BeautifulSoup, Tag"
   ]
  },
  {
   "cell_type": "code",
   "execution_count": 3,
   "id": "314de245",
   "metadata": {},
   "outputs": [
    {
     "name": "stderr",
     "output_type": "stream",
     "text": [
      "[WDM] - Downloading: 100%|██████████| 6.81M/6.81M [00:00<00:00, 48.4MB/s]\n",
      "C:\\Users\\Braed\\AppData\\Local\\Temp\\ipykernel_21412\\1503906442.py:1: DeprecationWarning: executable_path has been deprecated, please pass in a Service object\n",
      "  driver = webdriver.Chrome(ChromeDriverManager().install())\n"
     ]
    }
   ],
   "source": [
    "driver = webdriver.Chrome(ChromeDriverManager().install())"
   ]
  },
  {
   "cell_type": "code",
   "execution_count": 41,
   "metadata": {},
   "outputs": [],
   "source": [
    "yahoo_finance_news_url: str = \"https://finance.yahoo.com/news\""
   ]
  },
  {
   "cell_type": "code",
   "execution_count": 39,
   "id": "b0b18c7f",
   "metadata": {},
   "outputs": [],
   "source": [
    "@dataclasses.dataclass\n",
    "class yahoo_article_info:\n",
    "    title: str\n",
    "    link: str\n",
    "    source: str\n",
    "    age_at_pull: str\n",
    "    category: str\n",
    "    description: str\n",
    "\n"
   ]
  },
  {
   "cell_type": "code",
   "execution_count": 48,
   "id": "cf86feab",
   "metadata": {},
   "outputs": [],
   "source": [
    "def get_article_data(src: Tag):# -> yahoo_article_info:\n",
    "    header = src.find(\"h3\")\n",
    "    title = header.find(\"a\").text\n",
    "    href = header.find(\"a\")[\"href\"]\n",
    "    link = yahoo_finance_news_url + href\n",
    "    spans = src.find_all(\"span\")\n",
    "    source = spans[0].text\n",
    "    age_at_pull = spans[1].text\n",
    "    category = src.find(\"div\", {\"data-test-locator\":\"catlabel\"}).text\n",
    "    description = src.find(\"p\").text\n",
    "\n",
    "    result = yahoo_article_info(title=title, link=link, source=source, age_at_pull=age_at_pull, category=category, description=description)\n",
    "    return result"
   ]
  },
  {
   "cell_type": "code",
   "execution_count": 5,
   "id": "daf3a606",
   "metadata": {},
   "outputs": [],
   "source": [
    "driver.get(yahoo_finance_news_url)\n",
    "\n",
    "for _ in range(10):\n",
    "    body = driver.find_element(By.TAG_NAME, \"body\")\n",
    "    body.send_keys(Keys.END)\n",
    "    time.sleep(2)"
   ]
  },
  {
   "cell_type": "code",
   "execution_count": 6,
   "id": "f40e29d1",
   "metadata": {},
   "outputs": [],
   "source": [
    "html: str = driver.page_source"
   ]
  },
  {
   "cell_type": "code",
   "execution_count": 7,
   "id": "3a8bb3ff",
   "metadata": {},
   "outputs": [],
   "source": [
    "soup = BeautifulSoup(html, 'html.parser')"
   ]
  },
  {
   "cell_type": "code",
   "execution_count": 8,
   "id": "ed508172",
   "metadata": {},
   "outputs": [],
   "source": [
    "main_soup = soup.find(\"div\", {\"id\":\"Main\"})"
   ]
  },
  {
   "cell_type": "code",
   "execution_count": 11,
   "id": "d0710469",
   "metadata": {},
   "outputs": [],
   "source": [
    "articles: list = []\n",
    "if main_soup and type(main_soup) == Tag:\n",
    "    articles = main_soup.find_all(\"li\", {\"class\":\"js-stream-content\"})"
   ]
  },
  {
   "cell_type": "code",
   "execution_count": 52,
   "id": "0f7e9b91",
   "metadata": {},
   "outputs": [
    {
     "name": "stdout",
     "output_type": "stream",
     "text": [
      "yahoo_article_info(title=\"UPDATE 1-Brazil's new fiscal rules stricter than they look, finance ministry official says\", link='https://finance.yahoo.com/news/news/1-brazils-fiscal-rules-stricter-151048046.html', source='Reuters', age_at_pull='9 minutes ago', category='World', description=\"Brazil's newly introduced fiscal framework is stricter than they appear and will require a discussion of important spending cuts, Gabriel Galipolo, the executive secretary of the Finance Ministry, said on Tuesday.  Lawmakers in the lower house of Congress last week passed the main text of legislation that is set to replace the current spending cap, which has been breached several times in recent years to allow higher government spending.\")\n"
     ]
    }
   ],
   "source": [
    "print(get_article_data(articles[0]))\n",
    "\n",
    "article_info_list: list[yahoo_article_info] = []\n",
    "i: int = 0\n",
    "while len(article_info_list) < 100 or i >= len(articles):\n",
    "    try:\n",
    "        article_info_list.append(get_article_data(articles[i]))\n",
    "    except:\n",
    "        pass\n",
    "    i += 1"
   ]
  },
  {
   "cell_type": "code",
   "execution_count": 57,
   "id": "1175ebd5",
   "metadata": {},
   "outputs": [],
   "source": [
    "with open('yahoo_finance_articles.csv', 'w', newline='') as f:\n",
    "    fields = [field.name for field in dataclasses.fields(yahoo_article_info)]\n",
    "    w = csv.DictWriter(f, fields)\n",
    "    w.writeheader()\n",
    "    w.writerows([dataclasses.asdict(info) for info in article_info_list])"
   ]
  },
  {
   "cell_type": "code",
   "execution_count": null,
   "id": "c8112839",
   "metadata": {},
   "outputs": [],
   "source": []
  }
 ],
 "metadata": {
  "kernelspec": {
   "display_name": "Python 3 (ipykernel)",
   "language": "python",
   "name": "python3"
  },
  "language_info": {
   "codemirror_mode": {
    "name": "ipython",
    "version": 3
   },
   "file_extension": ".py",
   "mimetype": "text/x-python",
   "name": "python",
   "nbconvert_exporter": "python",
   "pygments_lexer": "ipython3",
   "version": "3.10.2"
  }
 },
 "nbformat": 4,
 "nbformat_minor": 5
}
